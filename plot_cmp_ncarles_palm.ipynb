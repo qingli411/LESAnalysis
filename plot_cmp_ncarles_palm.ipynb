{
 "cells": [
  {
   "cell_type": "code",
   "execution_count": null,
   "metadata": {},
   "outputs": [],
   "source": [
    "%matplotlib inline\n",
    "%config IPCompleter.greedy=True\n",
    "from lesanalysis import *"
   ]
  },
  {
   "cell_type": "markdown",
   "metadata": {},
   "source": [
    "### Read profile data"
   ]
  },
  {
   "cell_type": "code",
   "execution_count": null,
   "metadata": {},
   "outputs": [],
   "source": [
    "# inputfile0_dir = '/Users/qingli/data/ncarles/R8_BF05WD05WV12_ST01_ens01'\n",
    "# inputfile1_dir = '/Users/qingli/data/palm/NCARLES-TEST01'\n",
    "inputfile0_dir = '/Users/qingli/data/ncarles/R8_BF05WD05WV00_ST01_ens01'\n",
    "inputfile1_dir = '/Users/qingli/data/palm/NCARLES-TEST00_LEOS'\n",
    "\n",
    "inputfile0_pfl   = inputfile0_dir+'/his.mp.vis.000001.036001.nc'\n",
    "inputfile1_pfl   = inputfile1_dir+'/DATA_1D_PR_NETCDF'\n",
    "data0_pfl   = NCARLESData1DPR(inputfile0_pfl)\n",
    "data1_pfl   = PALMData1DPR(inputfile1_pfl)"
   ]
  },
  {
   "cell_type": "markdown",
   "metadata": {},
   "source": [
    "### Plot profiles"
   ]
  },
  {
   "cell_type": "markdown",
   "metadata": {},
   "source": [
    "- Parameters"
   ]
  },
  {
   "cell_type": "code",
   "execution_count": null,
   "metadata": {},
   "outputs": [],
   "source": [
    "# Gravitational acceleration (m/s^2)\n",
    "g = 9.81\n",
    "# Latitude\n",
    "lat = 45\n",
    "# Coriolis parameter (1/s)\n",
    "f = 4*np.pi/86400*np.sin(lat/180*np.pi)\n",
    "# friction velocity (m/s)\n",
    "ustar = 6.1e-3\n",
    "# surface temperature flux (K m/s)\n",
    "Q0 = 1.19e-6\n",
    "# reference density\n",
    "rho_0 = 1027.0\n",
    "# range of z/h_b\n",
    "ymin = -1.6\n",
    "ymax = 0"
   ]
  },
  {
   "cell_type": "markdown",
   "metadata": {},
   "source": [
    "- Time"
   ]
  },
  {
   "cell_type": "code",
   "execution_count": null,
   "metadata": {},
   "outputs": [],
   "source": [
    "time0 = data0_pfl.dataset.variables['time'][:]\n",
    "time1 = data1_pfl.dataset.variables['time'][:]\n",
    "deltat = 2*np.pi/f # one inertial period\n",
    "ttarget0 = 172800-deltat\n",
    "ttarget1 = time1[-1]-deltat\n",
    "tidx0_start = np.argmin(np.abs(time0-ttarget0))\n",
    "tidx1_start = np.argmin(np.abs(time1-ttarget1))\n",
    "tidx0_end = np.argmin(np.abs(time0-172800))\n",
    "tidx1_end = -1"
   ]
  },
  {
   "cell_type": "markdown",
   "metadata": {},
   "source": [
    "- Initial temperature and salinity profiles"
   ]
  },
  {
   "cell_type": "code",
   "execution_count": null,
   "metadata": {},
   "outputs": [],
   "source": [
    "# starting and ending indices\n",
    "fig, axarr = plt.subplots(1, 2, sharey='row')\n",
    "h0, = data0_pfl.read_profile('txym', tidx_start=0, tidx_end=1).plot_mean(\n",
    "                           axis=axarr[0], xlabel=r'$\\theta_0$ (K)', ylabel='Depth (m)',\n",
    "                           xlim=[284, 285.2], ylim=[-80, 0],\n",
    "                           color='k', linestyle='-')\n",
    "h1, = data1_pfl.read_profile('pt', tidx_start=0, tidx_end=1).plot_mean(\n",
    "                           axis=axarr[0], xlabel='off', ylabel='off',\n",
    "                           color='k', linestyle='--')\n",
    "data1_pfl.read_profile('sa', tidx_start=0, tidx_end=1).plot_mean(\n",
    "                           axis=axarr[1], xlabel=r'$S$ (psu)', ylabel='off', color='k', linestyle='--')\n",
    "axarr[0].legend([h0, h1], ['NCARLES', 'PALM'])\n"
   ]
  },
  {
   "cell_type": "markdown",
   "metadata": {},
   "source": [
    "- Mean boundary layer depth defined by the maximum N^2"
   ]
  },
  {
   "cell_type": "code",
   "execution_count": null,
   "metadata": {},
   "outputs": [],
   "source": [
    "txym = data0_pfl.read_profile('txym', tidx_start=tidx0_start, tidx_end=tidx0_end)\n",
    "NNT_data = (txym.data[:,1:]-txym.data[:,0:-1])/(txym.z[1:]-txym.z[0:-1])\n",
    "NNT_z = 0.5*(txym.z[1:]+txym.z[0:-1])\n",
    "NNT = LESProfile(data=NNT_data, data_name=r'$N^2_T$', z=NNT_z, time=time0[tidx0_start:tidx0_end])\n",
    "zidx = np.argmax(NNT.data, axis=1)\n",
    "hb0 = np.abs(NNT.z[zidx].mean())\n",
    "print('h_b0 = {:6.2f} m'.format(hb0))\n",
    "\n",
    "prho = data1_pfl.read_profile('prho', tidx_start=tidx1_start, tidx_end=tidx1_end)\n",
    "NN_data = -g*(prho.data[:,1:]-prho.data[:,0:-1])/(prho.z[1:]-prho.z[0:-1])/rho_0\n",
    "NN_z = 0.5*(prho.z[1:]+prho.z[0:-1])\n",
    "NN = LESProfile(data=NN_data, data_name=r'$N^2$', data_units=r's$^{-2}$', z=NN_z, time=time1[tidx1_start:tidx1_end])\n",
    "zidx = np.argmax(NN.data, axis=1)\n",
    "hb1 = np.abs(NN.z[zidx].mean())\n",
    "print('h_b1 = {:6.2f} m'.format(hb1))"
   ]
  },
  {
   "cell_type": "markdown",
   "metadata": {},
   "source": [
    "- Mean velocity"
   ]
  },
  {
   "cell_type": "code",
   "execution_count": null,
   "metadata": {},
   "outputs": [],
   "source": [
    "norm0 = 1/ustar\n",
    "znorm0 = 1/hb0\n",
    "norm1 = 1/ustar\n",
    "znorm1 = 1/hb1\n",
    "data0_pfl.read_profile('uxym', tidx_start=tidx0_start, tidx_end=tidx0_end).plot_mean(\n",
    "                             norm=norm0, znorm=znorm0,\n",
    "                             xlabel=r'$\\overline{u}/u_*$',\n",
    "                             ylabel='Depth (m)', ylim=[ymin, ymax], label='$\\overline{u}$ (NCARLES)',\n",
    "                             color='b', linestyle='-')\n",
    "data0_pfl.read_profile('vxym', tidx_start=tidx0_start, tidx_end=tidx0_end).plot_mean(\n",
    "                             norm=norm0, znorm=znorm0,\n",
    "                             xlabel='off', ylabel='off', label='$\\overline{v}$ (NCARLES)',\n",
    "                             color='r', linestyle='-')\n",
    "data1_pfl.read_profile('u', tidx_start=tidx1_start, tidx_end=tidx1_end).plot_mean(\n",
    "                             norm=norm1, znorm=znorm1,\n",
    "                             xlabel=r'$\\overline{u}/u_*$',\n",
    "                             ylabel='Depth (m)', ylim=[ymin, ymax], label='$\\overline{u}$ (PALM)',\n",
    "                             color='b', linestyle='--')\n",
    "data1_pfl.read_profile('v', tidx_start=tidx1_start, tidx_end=tidx1_end).plot_mean(\n",
    "                             norm=norm1, znorm=znorm1,\n",
    "                             xlabel='off', ylabel='off', label='$\\overline{v}$ (PALM)',\n",
    "                             color='r', linestyle='--')\n",
    "try:\n",
    "    data1_pfl.read_profile('u_stk', tidx_start=tidx1_start, tidx_end=tidx1_end).plot_mean(\n",
    "                             norm=norm1, znorm=znorm1, xlabel='off', ylabel='off',\n",
    "                             color='g', linestyle='-', label='$u^S$ (PALM)')\n",
    "    data1_pfl.read_profile('v_stk', tidx_start=tidx1_start, tidx_end=tidx1_end).plot_mean(\n",
    "                             norm=norm1, znorm=znorm1, xlabel='off', ylabel='off',\n",
    "                             color='y', linestyle='--', label='$v^S$ (PALM)')\n",
    "    data0_pfl.read_profile('stokes', tidx_start=tidx0_start, tidx_end=tidx0_end).plot_mean(\n",
    "                             norm=norm0, znorm=znorm0, xlabel='off', ylabel='off',\n",
    "                             color='g', linestyle='-', label='$u^S$ (NCARLES)')\n",
    "except ValueError:\n",
    "    print('Stokes drift not found. Skip.')\n",
    "    \n",
    "plt.legend()"
   ]
  },
  {
   "cell_type": "markdown",
   "metadata": {},
   "source": [
    "- Momentum fluxes"
   ]
  },
  {
   "cell_type": "code",
   "execution_count": null,
   "metadata": {},
   "outputs": [],
   "source": [
    "# normalizaing factor\n",
    "norm0 = 1/ustar**2\n",
    "znorm0 = 1/hb0\n",
    "norm1 = 1/ustar**2\n",
    "znorm1 = 1/hb1\n",
    "# subplots\n",
    "fig, axarr = plt.subplots(1, 2, sharey='row')\n",
    "data0_pfl.read_profile('uw',tidx_start=tidx0_start, tidx_end=tidx0_end).plot_mean(\n",
    "                            axis=axarr[0], norm=norm0, znorm=znorm0,\n",
    "                            xlabel=r'$\\overline{u^\\prime w^\\prime}/u_*^2$',\n",
    "                            ylabel=r'$z/h_b$', ylim=[ymin, ymax],\n",
    "                            color='k', linestyle='-', label='NCARLES')\n",
    "data0_pfl.read_profile('vw', tidx_start=tidx0_start, tidx_end=tidx0_end).plot_mean(\n",
    "                            axis=axarr[1], norm=norm0, znorm=znorm0, \n",
    "                            xlabel=r'$\\overline{v^\\prime w^\\prime}/u_*^2$', ylabel='off',\n",
    "                            color='k', linestyle='-')\n",
    "\n",
    "data1_pfl.read_profile('wu', tidx_start=tidx1_start, tidx_end=tidx1_end).plot_mean(\n",
    "                            axis=axarr[0], norm=norm1, znorm=znorm1,\n",
    "                            xlabel='off', ylabel='off', ylim=[ymin, ymax],\n",
    "                            color='k', linestyle='--', label='PALM')\n",
    "data1_pfl.read_profile('wv', tidx_start=tidx1_start, tidx_end=tidx1_end).plot_mean(\n",
    "                            axis=axarr[1], norm=norm1, znorm=znorm1, \n",
    "                            xlabel='off', ylabel='off',\n",
    "                            color='k', linestyle='--')\n",
    "axarr[0].legend()"
   ]
  },
  {
   "cell_type": "markdown",
   "metadata": {},
   "source": [
    "- Velocity variance"
   ]
  },
  {
   "cell_type": "code",
   "execution_count": null,
   "metadata": {},
   "outputs": [],
   "source": [
    "# normalizing factor\n",
    "norm0 = 1/ustar**2\n",
    "znorm0 = 1/hb0\n",
    "norm1 = 1/ustar**2\n",
    "znorm1 = 1/hb1\n",
    "# subplots\n",
    "fig, axarr = plt.subplots(1, 3, sharey='row')\n",
    "# lower right panel\n",
    "data0_pfl.read_profile('ups', tidx_start=tidx0_start, tidx_end=tidx0_end).plot_mean(\n",
    "                             axis=axarr[0], norm=norm0, znorm=znorm0,\n",
    "                             xlabel=r'$\\overline{{u^\\prime}^2}/u_*^2$',\n",
    "                             ylabel=r'$z/h_b$', ylim=[ymin, ymax],\n",
    "                             color='k', linestyle='-', label='NCARLES')\n",
    "data0_pfl.read_profile('vps', tidx_start=tidx0_start, tidx_end=tidx0_end).plot_mean(\n",
    "                             axis=axarr[1], norm=norm0, znorm=znorm0,\n",
    "                             xlabel=r'$\\overline{{v^\\prime}^2}/u_*^2$', ylabel='off',\n",
    "                             color='k', linestyle='-')\n",
    "data0_pfl.read_profile('wps', tidx_start=tidx0_start, tidx_end=tidx0_end).plot_mean(\n",
    "                             axis=axarr[2], norm=norm0, znorm=znorm0,\n",
    "                             xlabel=r'$\\overline{{w^\\prime}^2}/u_*^2$', ylabel='off',\n",
    "                             color='k', linestyle='-')\n",
    "\n",
    "data1_pfl.read_profile('u*2', tidx_start=tidx1_start, tidx_end=tidx1_end).plot_mean(\n",
    "                             axis=axarr[0], norm=norm1, znorm=znorm1,\n",
    "                             xlabel='off', ylabel='off', ylim=[ymin, ymax],\n",
    "                             color='k', linestyle='--', label='PALM')\n",
    "data1_pfl.read_profile('v*2', tidx_start=tidx1_start, tidx_end=tidx1_end).plot_mean(\n",
    "                             axis=axarr[1], norm=norm1, znorm=znorm1,\n",
    "                             xlabel='off', ylabel='off', color='k', linestyle='--')\n",
    "data1_pfl.read_profile('w*2', tidx_start=tidx1_start, tidx_end=tidx1_end).plot_mean(\n",
    "                             axis=axarr[2], norm=norm1, znorm=znorm1,\n",
    "                             xlabel='off', ylabel='off', color='k', linestyle='--')\n",
    "axarr[0].legend()"
   ]
  },
  {
   "cell_type": "markdown",
   "metadata": {},
   "source": [
    "- TKE"
   ]
  },
  {
   "cell_type": "code",
   "execution_count": null,
   "metadata": {},
   "outputs": [],
   "source": [
    "# normalizing factor\n",
    "norm0 = 1/ustar**2\n",
    "znorm0 = 1/hb0\n",
    "norm1 = 1/ustar**2\n",
    "znorm1 = 1/hb1\n",
    "\n",
    "e0_res = data0_pfl.read_profile('englez', tidx_start=tidx0_start, tidx_end=tidx0_end).plot_mean(\n",
    "                norm=norm0, znorm=znorm0, xlabel=r'$TKE/u_*^2$', ylabel=r'$z/h_b$', ylim=[ymin, ymax],\n",
    "                color='k', linestyle='-', label='Resolved (NCARLES)')\n",
    "e0_sgs = data0_pfl.read_profile('engsbz', tidx_start=tidx0_start, tidx_end=tidx0_end).plot_mean(\n",
    "                norm=norm0, znorm=znorm0, xlabel='off', ylabel='off',\n",
    "                color='r', linestyle='-', label='SGS (NCARLES)')\n",
    "\n",
    "e1_res = data1_pfl.read_profile('e*', tidx_start=tidx1_start, tidx_end=tidx1_end).plot_mean(\n",
    "                norm=norm1, znorm=znorm1, xlabel='off', ylabel='off', ylim=[ymin, ymax],\n",
    "                color='k', linestyle='--', label='Resolved (PALM)')\n",
    "e1_sgs = data1_pfl.read_profile('e', tidx_start=tidx1_start, tidx_end=tidx1_end)\n",
    "e1_sgs.z[0] = np.nan # fix the invalid depth of e at the bottom\n",
    "e1_sgs.plot_mean(norm=norm1, znorm=znorm1, xlabel='off', ylabel='off',\n",
    "                color='r', linestyle='--', label='SGS (PALM)')\n",
    "plt.legend()"
   ]
  },
  {
   "cell_type": "markdown",
   "metadata": {},
   "source": [
    "- Vertial velocity skewness"
   ]
  },
  {
   "cell_type": "code",
   "execution_count": null,
   "metadata": {},
   "outputs": [],
   "source": [
    "# normalizing factor\n",
    "norm0 = 1\n",
    "znorm0 = 1/hb0\n",
    "norm1 = 1\n",
    "znorm1 = 1/hb1\n",
    "\n",
    "wcube0 = data0_pfl.read_profile('wcube', tidx_start=tidx0_start, tidx_end=tidx0_end)\n",
    "wps0 = data0_pfl.read_profile('wps', tidx_start=tidx0_start, tidx_end=tidx0_end)\n",
    "Sw0 = LESProfile(data=wcube0.data/wps0.data**(1.5), z=wcube0.z)\n",
    "Sw0.plot_mean(norm=norm0, znorm=znorm0, \n",
    "              xlabel=r'$\\overline{{w^\\prime}^3} / \\left(\\overline{{w^\\prime}^2}\\right)^{3/2}$',\n",
    "              ylabel=r'$z/h_b$', ylim=[ymin, ymax], color='k', linestyle='-', label='NCARLES')\n",
    "Sw1 = data1_pfl.read_profile('Sw', tidx_start=tidx1_start, tidx_end=tidx1_end)\n",
    "Sw1.plot_mean(norm=norm1, znorm=znorm1, xlabel='off', ylabel='off', ylim=[ymin, ymax],\n",
    "              color='k', linestyle='--', label='PALM')\n",
    "plt.legend()"
   ]
  },
  {
   "cell_type": "markdown",
   "metadata": {},
   "source": [
    "- Temperature variance"
   ]
  },
  {
   "cell_type": "code",
   "execution_count": null,
   "metadata": {},
   "outputs": [],
   "source": [
    "# normalizing factor\n",
    "norm0 = 1/(Q0/ustar)**2\n",
    "znorm0 = 1/hb0\n",
    "norm1 = 1/(Q0/ustar)**2\n",
    "znorm1 = 1/hb1\n",
    "data0_pfl.read_profile('tps', tidx_start=tidx0_start, tidx_end=tidx0_end).plot_mean(\n",
    "                             norm=norm0, znorm=znorm0,\n",
    "                             xlabel=r'$\\overline{{\\theta^\\prime}^2}/\\Theta_0^2$',\n",
    "                             ylabel=r'$z/h_b$', ylim=[ymin, ymax],\n",
    "                             color='k', linestyle='-', label='NCARLES')\n",
    "data1_pfl.read_profile('pt*2', tidx_start=tidx1_start, tidx_end=tidx1_end).plot_mean(\n",
    "                             norm=norm1, znorm=znorm1,\n",
    "                             xlabel='off', ylabel='off', ylim=[ymin, ymax],\n",
    "                             color='k', linestyle='--', label='PALM')\n",
    "plt.legend()"
   ]
  },
  {
   "cell_type": "markdown",
   "metadata": {},
   "source": [
    "- Temperature fluxes"
   ]
  },
  {
   "cell_type": "code",
   "execution_count": null,
   "metadata": {},
   "outputs": [],
   "source": [
    "# normalizing factor\n",
    "norm0 = 1/Q0\n",
    "znorm0 = 1/hb0\n",
    "norm1 = 1/Q0\n",
    "znorm1 = 1/hb1\n",
    "data0_pfl.read_profile('wtle', tidx_start=tidx0_start, tidx_end=tidx0_end).plot_mean(\n",
    "                             norm=norm0, znorm=znorm0,\n",
    "                             xlabel=r'$\\overline{w^\\prime \\theta^\\prime}/Q_0$',\n",
    "                             ylabel=r'$z/h_b$', ylim=[ymin, ymax],\n",
    "                             color='k', linestyle='-', label='Resolved (NCARLES)')\n",
    "data0_pfl.read_profile('wtsb', tidx_start=tidx0_start, tidx_end=tidx0_end).plot_mean(\n",
    "                             norm=norm0, znorm=znorm0, xlabel='off', ylabel='off',\n",
    "                             color='r', linestyle='-', label='SGS (NCARLES)')\n",
    "data1_pfl.read_profile('w*pt*', tidx_start=tidx1_start, tidx_end=tidx1_end).plot_mean(\n",
    "                             norm=norm1, znorm=znorm1,\n",
    "                             xlabel='off', ylabel='off', ylim=[ymin, ymax],\n",
    "                             color='k', linestyle='--', label='Resolved (PAML)')\n",
    "data1_pfl.read_profile('w\"pt\"', tidx_start=tidx1_start, tidx_end=tidx1_end).plot_mean(\n",
    "                             norm=norm1, znorm=znorm1, xlabel='off', ylabel='off',\n",
    "                             color='r', linestyle='--', label='SGS (PALM)')\n",
    "plt.legend()\n"
   ]
  },
  {
   "cell_type": "code",
   "execution_count": null,
   "metadata": {},
   "outputs": [],
   "source": []
  }
 ],
 "metadata": {
  "kernelspec": {
   "display_name": "Python 3",
   "language": "python",
   "name": "python3"
  },
  "language_info": {
   "codemirror_mode": {
    "name": "ipython",
    "version": 3
   },
   "file_extension": ".py",
   "mimetype": "text/x-python",
   "name": "python",
   "nbconvert_exporter": "python",
   "pygments_lexer": "ipython3",
   "version": "3.6.5"
  }
 },
 "nbformat": 4,
 "nbformat_minor": 2
}
