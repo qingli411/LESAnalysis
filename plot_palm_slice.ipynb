{
 "cells": [
  {
   "cell_type": "code",
   "execution_count": null,
   "metadata": {},
   "outputs": [],
   "source": [
    "%matplotlib inline\n",
    "%config IPCompleter.greedy=True\n",
    "from lesanalysis import *"
   ]
  },
  {
   "cell_type": "markdown",
   "metadata": {},
   "source": [
    "### Set root directory and case name"
   ]
  },
  {
   "cell_type": "code",
   "execution_count": null,
   "metadata": {},
   "outputs": [],
   "source": [
    "casename = 'NCARLES-TEST01-WS'\n",
    "palmdata_root = '/Users/qingli/data/palm'\n",
    "inputfile_dir = palmdata_root+'/'+casename"
   ]
  },
  {
   "cell_type": "markdown",
   "metadata": {},
   "source": [
    "### Read 3d data"
   ]
  },
  {
   "cell_type": "code",
   "execution_count": null,
   "metadata": {},
   "outputs": [],
   "source": [
    "inputfile_vol   = inputfile_dir+'/DATA_3D_NETCDF'\n",
    "data_vol   = PALMData3D(inputfile_vol)"
   ]
  },
  {
   "cell_type": "markdown",
   "metadata": {},
   "source": [
    "### Plot slice"
   ]
  },
  {
   "cell_type": "markdown",
   "metadata": {},
   "source": [
    "- xy-slice"
   ]
  },
  {
   "cell_type": "code",
   "execution_count": null,
   "metadata": {},
   "outputs": [],
   "source": [
    "hb = 43\n",
    "depth1 = -0.1*hb\n",
    "depth2 = -0.2*hb\n",
    "depth3 = -0.5*hb\n",
    "depth4 = -0.9*hb\n",
    "zw = data_vol.dataset.variables['zw_3d'][:]\n",
    "zidx1 = np.argmin(np.abs(zw-depth1))\n",
    "zidx2 = np.argmin(np.abs(zw-depth2))\n",
    "zidx3 = np.argmin(np.abs(zw-depth3))\n",
    "zidx4 = np.argmin(np.abs(zw-depth4))\n",
    "print(zw[zidx1])\n",
    "print(zw[zidx2])\n",
    "print(zw[zidx3])\n",
    "print(zw[zidx4])"
   ]
  },
  {
   "cell_type": "code",
   "execution_count": null,
   "metadata": {},
   "outputs": [],
   "source": [
    "data_vol.read_slice_xy('w', zidx=zidx1).plot(clim=[-4e-2, 4e-2], ptype='pcolor', cmap='RdBu_r')\n",
    "plt.title('$z/h_b=$ {:6.2f}'.format(zw[zidx1]/hb))"
   ]
  },
  {
   "cell_type": "code",
   "execution_count": null,
   "metadata": {},
   "outputs": [],
   "source": [
    "data_vol.read_slice_xy('w', zidx=zidx2).plot(clim=[-4e-2, 4e-2], ptype='pcolor', cmap='RdBu_r')\n",
    "plt.title('$z/h_b=$ {:6.2f}'.format(zw[zidx2]/hb))"
   ]
  },
  {
   "cell_type": "code",
   "execution_count": null,
   "metadata": {},
   "outputs": [],
   "source": [
    "data_vol.read_slice_xy('w', zidx=zidx3).plot(clim=[-4e-2, 4e-2], ptype='pcolor', cmap='RdBu_r')\n",
    "plt.title('$z/h_b=$ {:6.2f}'.format(zw[zidx3]/hb))"
   ]
  },
  {
   "cell_type": "code",
   "execution_count": null,
   "metadata": {},
   "outputs": [],
   "source": [
    "data_vol.read_slice_xy('w', zidx=zidx4).plot(clim=[-4e-2, 4e-2], ptype='pcolor', cmap='RdBu_r')\n",
    "plt.title('$z/h_b=$ {:6.2f}'.format(zw[zidx4]/hb))"
   ]
  },
  {
   "cell_type": "markdown",
   "metadata": {},
   "source": [
    "- xz-slice"
   ]
  },
  {
   "cell_type": "code",
   "execution_count": null,
   "metadata": {},
   "outputs": [],
   "source": [
    "data_vol.read_slice_xz('w', yidx=0).plot(clim=[-4e-2, 4e-2], ptype='pcolor', cmap='RdBu_r')\n",
    "plt.ylim([-80,0])"
   ]
  },
  {
   "cell_type": "code",
   "execution_count": null,
   "metadata": {},
   "outputs": [],
   "source": []
  }
 ],
 "metadata": {
  "kernelspec": {
   "display_name": "Python 3",
   "language": "python",
   "name": "python3"
  },
  "language_info": {
   "codemirror_mode": {
    "name": "ipython",
    "version": 3
   },
   "file_extension": ".py",
   "mimetype": "text/x-python",
   "name": "python",
   "nbconvert_exporter": "python",
   "pygments_lexer": "ipython3",
   "version": "3.6.5"
  }
 },
 "nbformat": 4,
 "nbformat_minor": 2
}
