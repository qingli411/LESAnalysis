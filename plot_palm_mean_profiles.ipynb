{
 "cells": [
  {
   "cell_type": "code",
   "execution_count": null,
   "metadata": {},
   "outputs": [],
   "source": [
    "%matplotlib inline\n",
    "%config IPCompleter.greedy=True\n",
    "from lesanalysis import *"
   ]
  },
  {
   "cell_type": "markdown",
   "metadata": {},
   "source": [
    "### Set root directory and case name"
   ]
  },
  {
   "cell_type": "code",
   "execution_count": null,
   "metadata": {},
   "outputs": [],
   "source": [
    "casename = 'MSM97-LT'\n",
    "palmdata_root = '/Users/qingli/data/palm'\n",
    "inputfile_dir = palmdata_root+'/'+casename"
   ]
  },
  {
   "cell_type": "markdown",
   "metadata": {},
   "source": [
    "### Read profile data"
   ]
  },
  {
   "cell_type": "code",
   "execution_count": null,
   "metadata": {},
   "outputs": [],
   "source": [
    "inputfile_pfl   = inputfile_dir+'/DATA_1D_PR_NETCDF'\n",
    "data_pfl   = PALMData1DPR(inputfile_pfl)"
   ]
  },
  {
   "cell_type": "markdown",
   "metadata": {},
   "source": [
    "### Plot profiles"
   ]
  },
  {
   "cell_type": "markdown",
   "metadata": {},
   "source": [
    "- Parameters"
   ]
  },
  {
   "cell_type": "code",
   "execution_count": null,
   "metadata": {},
   "outputs": [],
   "source": [
    "# Gravitational acceleration (m/s^2)\n",
    "g = 9.81\n",
    "# Latitude\n",
    "lat = 45\n",
    "# Coriolis parameter (1/s)\n",
    "f = 4*np.pi/86400*np.sin(lat/180*np.pi)\n",
    "# friction velocity (m/s)\n",
    "ustar = 6.1e-3\n",
    "# surface temperature flux (K m/s)\n",
    "Q0 = 1.19e-6\n",
    "# reference density\n",
    "rho_0 = 1027.0\n",
    "# range of z/h_b\n",
    "ymin = -1.6\n",
    "ymax = 0"
   ]
  },
  {
   "cell_type": "markdown",
   "metadata": {},
   "source": [
    "- Time"
   ]
  },
  {
   "cell_type": "code",
   "execution_count": null,
   "metadata": {},
   "outputs": [],
   "source": [
    "time = data_pfl.dataset.variables['time'][:]\n",
    "deltat = 2*np.pi/f # one inertial period\n",
    "ttarget = time[-1]-deltat\n",
    "tidx_start = np.argmin(np.abs(time-ttarget))\n",
    "tidx_end = -1"
   ]
  },
  {
   "cell_type": "markdown",
   "metadata": {},
   "source": [
    "- Initial temperature and salinity profiles"
   ]
  },
  {
   "cell_type": "code",
   "execution_count": null,
   "metadata": {},
   "outputs": [],
   "source": [
    "# starting and ending indices\n",
    "fig, axarr = plt.subplots(1, 2, sharey='row')\n",
    "data_pfl.read_profile('pt', tidx_start=0, tidx_end=1).plot_mean(\n",
    "                           axis=axarr[0], xlabel=r'$\\theta_0$ (K)', ylabel='Depth (m)')\n",
    "data_pfl.read_profile('sa', tidx_start=0, tidx_end=1).plot_mean(\n",
    "                           axis=axarr[1], xlabel=r'$S$ (psu)', ylabel='off')\n"
   ]
  },
  {
   "cell_type": "markdown",
   "metadata": {},
   "source": [
    "- Mean boundary layer depth defined by the depth where N^2 reaches maximum"
   ]
  },
  {
   "cell_type": "code",
   "execution_count": null,
   "metadata": {},
   "outputs": [],
   "source": [
    "prho = data_pfl.read_profile('prho', tidx_start=tidx_start, tidx_end=tidx_end)\n",
    "NN_data = -g*(prho.data[:,1:]-prho.data[:,0:-1])/(prho.z[1:]-prho.z[0:-1])/rho_0\n",
    "NN_z = 0.5*(prho.z[1:]+prho.z[0:-1])\n",
    "NN = LESProfile(data=NN_data, data_name=r'$N^2$', data_units=r's$^{-2}$', z=NN_z, time=time[tidx_start:tidx_end])\n",
    "zidx = np.argmax(NN.data, axis=1)\n",
    "hb = np.abs(NN.z[zidx].mean())\n",
    "print('h_b = {:6.2f} m'.format(hb))\n",
    "norm = 1/f**2\n",
    "znorm = 1/hb\n",
    "NN.plot_mean(norm=norm, znorm=znorm, xlabel=r'$N^2/f^2$',ylabel=r'$z/h_b$', ylim=[ymin, ymax])"
   ]
  },
  {
   "cell_type": "markdown",
   "metadata": {},
   "source": [
    "- Mean velocity"
   ]
  },
  {
   "cell_type": "code",
   "execution_count": null,
   "metadata": {},
   "outputs": [],
   "source": [
    "norm = 1/ustar\n",
    "znorm = 1/hb\n",
    "data_pfl.read_profile('u', tidx_start=tidx_start, tidx_end=tidx_end).plot_mean(\n",
    "                             norm=norm, znorm=znorm,\n",
    "                             xlabel=r'$\\overline{u}/u_*$',\n",
    "                             ylabel='Depth (m)', ylim=[ymin, ymax], label='$\\overline{u}$')\n",
    "data_pfl.read_profile('v', tidx_start=tidx_start, tidx_end=tidx_end).plot_mean(\n",
    "                             norm=norm, znorm=znorm,\n",
    "                             xlabel='off', ylabel='off', label='$\\overline{v}$')\n",
    "try:\n",
    "    data_pfl.read_profile('u_stk', tidx_start=tidx_start, tidx_end=tidx_end).plot_mean(\n",
    "                             norm=norm, znorm=znorm,\n",
    "                             xlabel='off', ylabel='off', label='$u^S$')\n",
    "    data_pfl.read_profile('v_stk', tidx_start=tidx_start, tidx_end=tidx_end).plot_mean(\n",
    "                             norm=norm, znorm=znorm,\n",
    "                             xlabel='off', ylabel='off', label='$v^S$')\n",
    "except ValueError:\n",
    "    print('Stokes drift not found. Skip.')\n",
    "    \n",
    "plt.legend()"
   ]
  },
  {
   "cell_type": "markdown",
   "metadata": {},
   "source": [
    "- Momentum fluxes"
   ]
  },
  {
   "cell_type": "code",
   "execution_count": null,
   "metadata": {},
   "outputs": [],
   "source": [
    "# normalizaing factor\n",
    "norm = 1/ustar**2\n",
    "znorm = 1/hb\n",
    "# subplots\n",
    "fig, axarr = plt.subplots(1, 2, sharey='row')\n",
    "data_pfl.read_profile('wu', tidx_start=tidx_start, tidx_end=tidx_end).plot_mean(\n",
    "                            axis=axarr[0], norm=norm, znorm=znorm,\n",
    "                            xlabel=r'$\\overline{u^\\prime w^\\prime}/u_*^2$',\n",
    "                            ylabel=r'$z/h_b$', ylim=[ymin, ymax])\n",
    "data_pfl.read_profile('wv', tidx_start=tidx_start, tidx_end=tidx_end).plot_mean(\n",
    "                            axis=axarr[1], norm=norm, znorm=znorm, \n",
    "                            xlabel=r'$\\overline{v^\\prime w^\\prime}/u_*^2$', ylabel='off')\n"
   ]
  },
  {
   "cell_type": "markdown",
   "metadata": {},
   "source": [
    "- Velocity variance"
   ]
  },
  {
   "cell_type": "code",
   "execution_count": null,
   "metadata": {},
   "outputs": [],
   "source": [
    "# normalizing factor\n",
    "norm = 1/ustar**2\n",
    "znorm = 1/hb\n",
    "# subplots\n",
    "fig, axarr = plt.subplots(1, 3, sharey='row')\n",
    "# lower right panel\n",
    "data_pfl.read_profile('u*2', tidx_start=tidx_start, tidx_end=tidx_end).plot_mean(\n",
    "                             axis=axarr[0], norm=norm, znorm=znorm,\n",
    "                             xlabel=r'$\\overline{{u^\\prime}^2}/u_*^2$',\n",
    "                             ylabel=r'$z/h_b$', ylim=[ymin, ymax])\n",
    "data_pfl.read_profile('v*2', tidx_start=tidx_start, tidx_end=tidx_end).plot_mean(\n",
    "                             axis=axarr[1], norm=norm, znorm=znorm,\n",
    "                             xlabel=r'$\\overline{{v^\\prime}^2}/u_*^2$', ylabel='off')\n",
    "data_pfl.read_profile('w*2', tidx_start=tidx_start, tidx_end=tidx_end).plot_mean(\n",
    "                             axis=axarr[2], norm=norm, znorm=znorm,\n",
    "                             xlabel=r'$\\overline{{w^\\prime}^2}/u_*^2$', ylabel='off')"
   ]
  },
  {
   "cell_type": "markdown",
   "metadata": {},
   "source": [
    "- TKE"
   ]
  },
  {
   "cell_type": "code",
   "execution_count": null,
   "metadata": {},
   "outputs": [],
   "source": [
    "# normalizing factor\n",
    "norm = 1/ustar**2\n",
    "znorm = 1/hb\n",
    "e_res = data_pfl.read_profile('e*', tidx_start=tidx_start, tidx_end=tidx_end).plot_mean(\n",
    "                              norm=norm, znorm=znorm, xlabel=r'$TKE/u_*^2$', ylabel='off', label='Resolved')\n",
    "e_sgs = data_pfl.read_profile('e', tidx_start=tidx_start, tidx_end=tidx_end)\n",
    "e_sgs.z[0] = np.nan # fix the invalid depth of e at the bottom\n",
    "e_sgs.plot_mean(norm=norm, znorm=znorm, xlabel='off', ylabel='off', label='SGS')\n",
    "plt.legend()"
   ]
  },
  {
   "cell_type": "markdown",
   "metadata": {},
   "source": [
    "- Vertial velocity skewness"
   ]
  },
  {
   "cell_type": "code",
   "execution_count": null,
   "metadata": {},
   "outputs": [],
   "source": [
    "# normalizing factor\n",
    "norm = 1\n",
    "znorm = 1/hb\n",
    "data_pfl.read_profile('Sw', tidx_start=tidx_start, tidx_end=tidx_end).plot_mean(\n",
    "                             norm=norm, znorm=znorm,\n",
    "                             xlabel=r'$\\overline{{w^\\prime}^3} / \\left(\\overline{{w^\\prime}^2}\\right)^{3/2}$',\n",
    "                             ylabel=r'$z/h_b$', ylim=[ymin, ymax])"
   ]
  },
  {
   "cell_type": "markdown",
   "metadata": {},
   "source": [
    "- Temperature variance"
   ]
  },
  {
   "cell_type": "code",
   "execution_count": null,
   "metadata": {},
   "outputs": [],
   "source": [
    "# normalizing factor\n",
    "norm = 1/(Q0/ustar)**2\n",
    "znorm = 1/hb\n",
    "data_pfl.read_profile('pt*2', tidx_start=tidx_start, tidx_end=tidx_end).plot_mean(\n",
    "                             norm=norm, znorm=znorm,\n",
    "                             xlabel=r'$\\overline{{\\theta^\\prime}^2}/\\Theta_0^2$',\n",
    "                             ylabel=r'$z/h_b$', ylim=[ymin, ymax], label='Total')"
   ]
  },
  {
   "cell_type": "markdown",
   "metadata": {},
   "source": [
    "- Temperature fluxes"
   ]
  },
  {
   "cell_type": "code",
   "execution_count": null,
   "metadata": {},
   "outputs": [],
   "source": [
    "# normalizing factor\n",
    "norm = 1/Q0\n",
    "znorm = 1/hb\n",
    "data_pfl.read_profile('w*pt*', tidx_start=tidx_start, tidx_end=tidx_end).plot_mean(\n",
    "                             norm=norm, znorm=znorm,\n",
    "                             xlabel=r'$\\overline{w^\\prime \\theta^\\prime}/Q_0$',\n",
    "                             ylabel=r'$z/h_b$', ylim=[ymin, ymax], label='Resolved')\n",
    "data_pfl.read_profile('w\"pt\"', tidx_start=tidx_start, tidx_end=tidx_end).plot_mean(\n",
    "                             norm=norm, znorm=znorm,\n",
    "                             xlabel='off', ylabel='off', label='SGS')\n",
    "plt.legend()\n"
   ]
  },
  {
   "cell_type": "code",
   "execution_count": null,
   "metadata": {},
   "outputs": [],
   "source": []
  }
 ],
 "metadata": {
  "kernelspec": {
   "display_name": "Python 3",
   "language": "python",
   "name": "python3"
  },
  "language_info": {
   "codemirror_mode": {
    "name": "ipython",
    "version": 3
   },
   "file_extension": ".py",
   "mimetype": "text/x-python",
   "name": "python",
   "nbconvert_exporter": "python",
   "pygments_lexer": "ipython3",
   "version": "3.6.5"
  }
 },
 "nbformat": 4,
 "nbformat_minor": 2
}
