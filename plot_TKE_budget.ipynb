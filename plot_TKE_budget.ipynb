{
 "cells": [
  {
   "cell_type": "markdown",
   "metadata": {},
   "source": [
    "## Resolved TKE budget\n",
    "\n",
    "This notebook diagnoses the TKE budget for horizontally homogeneous turbulence from PALM output:\n",
    "$$\\begin{equation}\n",
    "\\frac{\\partial e}{\\partial t} =\n",
    "\\underbrace{\n",
    "-\\overline{u'w'}\\frac{\\partial \\overline{u}}{\\partial z}\n",
    "-\\overline{v'w'}\\frac{\\partial \\overline{v}}{\\partial z}\n",
    "}_{P}\n",
    "\\underbrace{\n",
    "-\\overline{u'w'}\\frac{\\partial \\overline{u}^S}{\\partial z}\n",
    "-\\overline{v'w'}\\frac{\\partial \\overline{v}^S}{\\partial z}\n",
    "}_{P^S}\n",
    "+\\underbrace{\n",
    "\\overline{w'b'}\n",
    "}_{B}\n",
    "\\underbrace{\n",
    "-\\frac{\\partial}{\\partial z}\\left(\\frac{\\overline{w'p'}}{\\rho_0}+\\overline{w'e}\\right)\n",
    "}_{T}\n",
    "+D,\n",
    "\\end{equation}$$\n",
    "where $P$ is the shear production, $P^S$ is the Stokes production, $B$ is the buoyancy production, $T$ is the TKE transport and $D$ is the dissipation."
   ]
  },
  {
   "cell_type": "code",
   "execution_count": 1,
   "metadata": {},
   "outputs": [],
   "source": [
    "%matplotlib inline\n",
    "%config IPCompleter.greedy=True\n",
    "from lesanalysis import *"
   ]
  },
  {
   "cell_type": "code",
   "execution_count": 2,
   "metadata": {},
   "outputs": [],
   "source": [
    "palmcase      = '/Users/qingli/data/palm/MSM97-ST'\n",
    "inputfile_pfl = palmcase+'/DATA_1D_PR_NETCDF'\n",
    "data_pfl      = PALMData1DPR(inputfile_pfl)"
   ]
  },
  {
   "cell_type": "markdown",
   "metadata": {},
   "source": [
    "### Parameters "
   ]
  },
  {
   "cell_type": "code",
   "execution_count": 3,
   "metadata": {},
   "outputs": [],
   "source": [
    "# gravitational acceleration (m/s^2)\n",
    "g = 9.81\n",
    "# thermal expansion coefficient (1/degC)\n",
    "# TODO: constant for now, may need to read from output in PALM\n",
    "alpha = 2.0e-4\n",
    "# saline contraction coefficient (1/psu)\n",
    "# TODO: constant for now, may need to read from output in PALM\n",
    "beta = 8.0e-4\n",
    "# spin-up time (s)\n",
    "tspinup = 0.\n",
    "# averaging period (s)\n",
    "# deltat = 2*np.pi/f # last inertial period\n",
    "deltat = 3600. # last hour"
   ]
  },
  {
   "cell_type": "markdown",
   "metadata": {},
   "source": [
    "### Time"
   ]
  },
  {
   "cell_type": "code",
   "execution_count": 4,
   "metadata": {},
   "outputs": [
    {
     "name": "stdout",
     "output_type": "stream",
     "text": [
      "Time period for average: 82810.90000000004 s - 86409.99999999997 s\n"
     ]
    }
   ],
   "source": [
    "# mean profile\n",
    "time = data_pfl.dataset.variables['time'][:]\n",
    "ttarget = time[-1]-deltat\n",
    "assert ttarget>tspinup, 'Run time too short for average over the last inertial period.'\n",
    "tidx_start = np.argmin(np.abs(time-ttarget))\n",
    "tidx_end = -1\n",
    "print('Time period for average: {} s - {} s'.format(time[tidx_start], time[tidx_end]))"
   ]
  },
  {
   "cell_type": "markdown",
   "metadata": {},
   "source": [
    "### Resolved TKE budget"
   ]
  },
  {
   "cell_type": "code",
   "execution_count": 5,
   "metadata": {},
   "outputs": [],
   "source": [
    "# load mean profiles, interpolate on w level, exclude first and last element\n",
    "zu = data_pfl.dataset.variables['zu'][:]\n",
    "uw = data_pfl.read_profile('w*u*', tidx_start=tidx_start, tidx_end=tidx_end).data_mean[1:-1]\n",
    "vw = data_pfl.read_profile('w*v*', tidx_start=tidx_start, tidx_end=tidx_end).data_mean[1:-1]\n",
    "U = data_pfl.read_profile('u', tidx_start=tidx_start, tidx_end=tidx_end).data_mean\n",
    "V = data_pfl.read_profile('v', tidx_start=tidx_start, tidx_end=tidx_end).data_mean\n",
    "dUdz = (U[2:]-U[1:-1])/(zu[2:]-zu[1:-1])\n",
    "dVdz = (V[2:]-V[1:-1])/(zu[2:]-zu[1:-1])\n",
    "if 'u_stk' in data_pfl.list_variables:\n",
    "    Ustk = data_pfl.read_profile('u_stk', tidx_start=tidx_start, tidx_end=tidx_end).data_mean\n",
    "    Vstk = data_pfl.read_profile('v_stk', tidx_start=tidx_start, tidx_end=tidx_end).data_mean\n",
    "    dUstkdz = (Ustk[2:]-Ustk[1:-1])/(zu[2:]-zu[1:-1])\n",
    "    dVstkdz = (Vstk[2:]-Vstk[1:-1])/(zu[2:]-zu[1:-1])\n",
    "else:\n",
    "    dUstkdz = np.zeros(dUdz.size)\n",
    "    dVstkdz = np.zeros(dVdz.size)\n",
    "wpt = data_pfl.read_profile('w*pt*', tidx_start=tidx_start, tidx_end=tidx_end).data_mean[1:-1]\n",
    "wsa = data_pfl.read_profile('w*sa*', tidx_start=tidx_start, tidx_end=tidx_end).data_mean[1:-1]\n",
    "wb = g*(wpt*alpha+wsa*beta)\n",
    "dwedz_zu = data_pfl.read_profile('w*u*u*:dz', tidx_start=tidx_start, tidx_end=tidx_end).data_mean\n",
    "dwedz = 0.5*(dwedz_zu[1:-1]+dwedz_zu[2:])\n",
    "dwpdz_zu = data_pfl.read_profile('w*p*:dz', tidx_start=tidx_start, tidx_end=tidx_end).data_mean\n",
    "dwpdz = 0.5*(dwpdz_zu[1:-1]+dwpdz_zu[2:])\n",
    "# TODO: read dissipation\n",
    "zw = data_pfl.dataset.variables['zw'][1:-1]\n"
   ]
  },
  {
   "cell_type": "code",
   "execution_count": 6,
   "metadata": {},
   "outputs": [],
   "source": [
    "# shear production\n",
    "P = -uw*dUdz-vw*dVdz\n",
    "# Stokes production\n",
    "PS = -uw*dUstkdz-vw*dVstkdz\n",
    "# buoyancy production\n",
    "B = wb\n",
    "# TKE transport\n",
    "T = -dwedz-dwpdz\n",
    "# dissipation\n",
    "# TODO: inferred dissipation for now, need to add to PALM output\n",
    "D = -(P+PS+B+T)"
   ]
  },
  {
   "cell_type": "code",
   "execution_count": 7,
   "metadata": {},
   "outputs": [
    {
     "data": {
      "text/plain": [
       "<matplotlib.legend.Legend at 0x11fd7a3c8>"
      ]
     },
     "execution_count": 7,
     "metadata": {},
     "output_type": "execute_result"
    },
    {
     "data": {
      "image/png": "[encoded data removed]",
      "text/plain": [
       "<Figure size 432x288 with 1 Axes>"
      ]
     },
     "metadata": {
      "needs_background": "light"
     },
     "output_type": "display_data"
    }
   ],
   "source": [
    "# plot TKE budget\n",
    "plt.plot(P, zw, '-r', label='$P$')\n",
    "plt.plot(PS, zw, '-m', label='$P^S$')\n",
    "plt.plot(B, zw, '-b', label='$B$')\n",
    "plt.plot(T, zw, '-g', label='$T$')\n",
    "plt.plot(D, zw, '-c', label='$D$')\n",
    "plt.ylim([-50, 0])\n",
    "plt.ylabel('Depth (m)')\n",
    "plt.xlabel('TKE budget (m$^2$/s$^3$)')\n",
    "plt.legend(loc='lower left')"
   ]
  },
  {
   "cell_type": "code",
   "execution_count": null,
   "metadata": {},
   "outputs": [],
   "source": []
  }
 ],
 "metadata": {
  "kernelspec": {
   "display_name": "Python 3",
   "language": "python",
   "name": "python3"
  },
  "language_info": {
   "codemirror_mode": {
    "name": "ipython",
    "version": 3
   },
   "file_extension": ".py",
   "mimetype": "text/x-python",
   "name": "python",
   "nbconvert_exporter": "python",
   "pygments_lexer": "ipython3",
   "version": "3.7.1"
  }
 },
 "nbformat": 4,
 "nbformat_minor": 2
}
