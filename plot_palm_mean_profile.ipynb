{
 "cells": [
  {
   "cell_type": "code",
   "execution_count": null,
   "metadata": {},
   "outputs": [],
   "source": [
    "%matplotlib inline\n",
    "%config IPCompleter.greedy=True\n",
    "from lesanalysis import *"
   ]
  },
  {
   "cell_type": "markdown",
   "metadata": {},
   "source": [
    "## Set test and reference cases"
   ]
  },
  {
   "cell_type": "code",
   "execution_count": null,
   "metadata": {},
   "outputs": [],
   "source": [
    "palmcase = '/users/qingli/scratch3/palm/test_rho_ocean/RUN_ifort.grizzly_hdf5_mpirun_PALM_ocean_MSM97-ST'\n",
    "palmcase_ref = '/users/qingli/scratch3/palm/master-4a02919/RUN_ifort.grizzly_hdf5_mpirun_PALM_ocean_MSM97-ST'\n",
    "ncarlescase = '/usr/projects/climate/qingli/NCARLES/archive_les/hist/ncarles_MSM97-ST'"
   ]
  },
  {
   "cell_type": "code",
   "execution_count": null,
   "metadata": {},
   "outputs": [],
   "source": [
    "inputfile_pfl      = palmcase+'/DATA_1D_PR_NETCDF'\n",
    "inputfile_pfl_ref  = palmcase_ref+'/DATA_1D_PR_NETCDF'\n",
    "inputfile_pfl_ncar = ncarlescase+'/his.mp.vis.000001.014401.nc'\n",
    "data_pfl           = PALMData1DPR(inputfile_pfl)\n",
    "data_pfl_ref       = PALMData1DPR(inputfile_pfl_ref)\n",
    "data_pfl_ncar      = NCARLESData1DPR(inputfile_pfl_ncar)"
   ]
  },
  {
   "cell_type": "markdown",
   "metadata": {},
   "source": [
    "## Parameters"
   ]
  },
  {
   "cell_type": "code",
   "execution_count": null,
   "metadata": {},
   "outputs": [],
   "source": [
    "# flags\n",
    "\n",
    "# plot reference case if True\n",
    "f_ref = True\n",
    "# plot NCARLES case if True\n",
    "f_ncar = False\n",
    "# normalize x- and y-coordinates if True\n",
    "f_norm = True\n",
    "# averaged over the last inertial period if True, otherwise set ending time tend\n",
    "f_lastIP = False \n",
    "# ending time\n",
    "t_end = 86400.0\n",
    "\n",
    "# parameters for plotting\n",
    "color_ref = 'r'\n",
    "color_ncar = 'royalblue'"
   ]
  },
  {
   "cell_type": "code",
   "execution_count": null,
   "metadata": {},
   "outputs": [],
   "source": [
    "# Gravitational acceleration (m/s^2)\n",
    "g = 9.81\n",
    "# Latitude\n",
    "lat = 45.0\n",
    "# Coriolis parameter (1/s)\n",
    "f = 4*np.pi/86400*np.sin(lat/180*np.pi)\n",
    "# friction velocity (m/s)\n",
    "ustar = 6.1e-3\n",
    "# surface temperature flux (K m/s)\n",
    "Q0 = 1.19e-6\n",
    "# g*alpha (NCARLES)\n",
    "batag = g/5000.0\n",
    "# depth of the domain (m)\n",
    "depth = -120.0\n",
    "# spin-up time (s)\n",
    "tspinup = 43200.\n",
    "# one inertial period\n",
    "deltat = 2*np.pi/f\n",
    "deltat = 21600."
   ]
  },
  {
   "cell_type": "markdown",
   "metadata": {},
   "source": [
    "## Plot profiles"
   ]
  },
  {
   "cell_type": "markdown",
   "metadata": {},
   "source": [
    "### z"
   ]
  },
  {
   "cell_type": "code",
   "execution_count": null,
   "metadata": {},
   "outputs": [],
   "source": [
    "# range of z\n",
    "if f_norm:\n",
    "    ylabel_str = r'$z/h_b$'\n",
    "    ymin = -1.6\n",
    "    ymax = 0\n",
    "else:\n",
    "    ylabel_str = 'Depth (m)'\n",
    "    ymin = depth\n",
    "    ymax = 0"
   ]
  },
  {
   "cell_type": "markdown",
   "metadata": {},
   "source": [
    "### Time"
   ]
  },
  {
   "cell_type": "code",
   "execution_count": null,
   "metadata": {},
   "outputs": [],
   "source": [
    "# mean profile over an inertial period\n",
    "time = data_pfl.dataset.variables['time'][:]\n",
    "if f_lastIP:\n",
    "    ttarget = time[-1]-deltat\n",
    "    tidx_end = -1\n",
    "else:\n",
    "    ttarget = t_end-deltat\n",
    "    tidx_end = np.argmin(np.abs(time-t_end))\n",
    "assert ttarget>tspinup, 'Run time too short for average over the last inertial period.'\n",
    "tidx_start = np.argmin(np.abs(time-ttarget))\n",
    "print('Time period for average: {} s - {} s'.format(time[tidx_start], time[tidx_end]))\n",
    "\n",
    "if f_ref:\n",
    "    time_ref = data_pfl_ref.dataset.variables['time'][:]\n",
    "    if f_lastIP:\n",
    "        ttarget_ref = time_ref[-1]-deltat\n",
    "        tidx_end_ref = -1\n",
    "    else:\n",
    "        ttarget_ref = t_end-deltat\n",
    "        tidx_end_ref = np.argmin(np.abs(time_ref-t_end))\n",
    "    assert ttarget_ref>tspinup, 'Reference run time too short for average over the last inertial period.'\n",
    "    tidx_start_ref = np.argmin(np.abs(time_ref-ttarget_ref))\n",
    "    print('Time period for average (Ref): {} s - {} s'.format(time_ref[tidx_start_ref], time_ref[tidx_end_ref]))\n",
    "\n",
    "if f_ncar:\n",
    "    time_ncar = data_pfl_ncar.dataset.variables['time'][:]\n",
    "    if f_lastIP:\n",
    "        ttarget_ncar = time_ncar[-1]-deltat\n",
    "        tidx_end_ncar = -1\n",
    "    else:\n",
    "        ttarget_ncar = t_end-deltat\n",
    "        tidx_end_ncar = np.argmin(np.abs(time_ncar-t_end))\n",
    "    assert ttarget_ncar>tspinup, 'NCARLES run time too short for average over the last inertial period.'\n",
    "    tidx_start_ncar = np.argmin(np.abs(time_ncar-ttarget_ncar))\n",
    "    print('Time period for average (NCARLES): {} s - {} s'.\n",
    "          format(time_ncar[tidx_start_ncar], time_ncar[tidx_end_ncar]))"
   ]
  },
  {
   "cell_type": "markdown",
   "metadata": {},
   "source": [
    "### Initial temperature and salinity profiles"
   ]
  },
  {
   "cell_type": "code",
   "execution_count": null,
   "metadata": {},
   "outputs": [],
   "source": [
    "# plot\n",
    "fig, axarr = plt.subplots(1, 2, sharey='row')\n",
    "data_pfl.read_profile('pt', tidx_start=0, tidx_end=1).plot_mean(\n",
    "                           axis=axarr[0], color='k', xlabel=r'$\\theta_0$ (K)', ylabel='Depth (m)')\n",
    "data_pfl.read_profile('sa', tidx_start=0, tidx_end=1).plot_mean(\n",
    "                           axis=axarr[1], color='k', xlabel=r'$S$ (psu)', ylabel='off')\n",
    "\n",
    "if f_ref:\n",
    "    data_pfl_ref.read_profile('pt', tidx_start=0, tidx_end=1).plot_mean(\n",
    "                               axis=axarr[0], color=color_ref, \n",
    "                               xlabel='off', ylabel='off')\n",
    "    data_pfl_ref.read_profile('sa', tidx_start=0, tidx_end=1).plot_mean(\n",
    "                               axis=axarr[1], color=color_ref,\n",
    "                               xlabel='off', ylabel='off')\n",
    "    \n",
    "if f_ncar:\n",
    "    data_pfl_ncar.read_profile('txym', tidx_start=0, tidx_end=1).plot_mean(\n",
    "                                axis=axarr[0], color=color_ncar, \n",
    "                                xlabel='off', ylabel='off')"
   ]
  },
  {
   "cell_type": "markdown",
   "metadata": {},
   "source": [
    "### Temperature and salinity profiles at the end of the simulation"
   ]
  },
  {
   "cell_type": "code",
   "execution_count": null,
   "metadata": {},
   "outputs": [],
   "source": [
    "# plot\n",
    "fig, axarr = plt.subplots(1, 2, sharey='row')\n",
    "data_pfl.read_profile('pt', tidx_start=-1).plot_mean(\n",
    "                           axis=axarr[0], color='k', xlabel=r'$\\theta_0$ (K)', ylabel='Depth (m)')\n",
    "data_pfl.read_profile('sa', tidx_start=-1).plot_mean(\n",
    "                           axis=axarr[1], color='k', xlabel=r'$S$ (psu)', ylabel='off')\n",
    "\n",
    "if f_ref:\n",
    "    data_pfl_ref.read_profile('pt', tidx_start=-1).plot_mean(\n",
    "                               axis=axarr[0], color=color_ref,\n",
    "                               xlabel='off', ylabel='off')\n",
    "    data_pfl_ref.read_profile('sa', tidx_start=-1).plot_mean(\n",
    "                               axis=axarr[1], color=color_ref,\n",
    "                               xlabel='off', ylabel='off')\n",
    "    \n",
    "if f_ncar:\n",
    "    data_pfl_ncar.read_profile('txym', tidx_start=-1).plot_mean(\n",
    "                                axis=axarr[0], color=color_ncar,\n",
    "                                xlabel='off', ylabel='off')"
   ]
  },
  {
   "cell_type": "markdown",
   "metadata": {},
   "source": [
    "### Mean boundary layer depth defined by the depth where N^2 reaches its maximum"
   ]
  },
  {
   "cell_type": "code",
   "execution_count": null,
   "metadata": {},
   "outputs": [],
   "source": [
    "# normalizaing factor\n",
    "if f_norm:\n",
    "    norm = 1/f**2\n",
    "    xlabel_str = r'$N^2/f^2$'\n",
    "else:\n",
    "    norm = 1\n",
    "    xlabel_str = r'$N^2$ (s$^{-2}$)'\n",
    "\n",
    "# plot\n",
    "prho = data_pfl.read_profile('pt', tidx_start=tidx_start, tidx_end=tidx_end)\n",
    "NN_data = (prho.data[:,1:]-prho.data[:,0:-1])/(prho.z[1:]-prho.z[0:-1])*batag\n",
    "NN_z = 0.5*(prho.z[1:]+prho.z[0:-1])\n",
    "NN = LESProfile(data=NN_data, data_name=r'$N^2$', data_units=r's$^{-2}$', z=NN_z, time=time[tidx_start:tidx_end])\n",
    "zidx = np.argmax(NN.data, axis=1)\n",
    "hb = np.abs(NN.z[zidx].mean())\n",
    "print('h_b = {:6.2f} m'.format(hb))\n",
    "if f_norm:\n",
    "    znorm = 1/hb\n",
    "else:\n",
    "    znorm = 1\n",
    "NN.plot_mean(norm=norm, znorm=znorm, color='k', xlabel=xlabel_str, ylabel=ylabel_str, ylim=[ymin, ymax])\n",
    "\n",
    "if f_ref:\n",
    "    prho = data_pfl_ref.read_profile('pt', tidx_start=tidx_start_ref, tidx_end=tidx_end_ref)\n",
    "    NN_data = (prho.data[:,1:]-prho.data[:,0:-1])/(prho.z[1:]-prho.z[0:-1])*batag\n",
    "    NN_z = 0.5*(prho.z[1:]+prho.z[0:-1])\n",
    "    NN_ref = LESProfile(data=NN_data, data_name=r'$N^2$', data_units=r's$^{-2}$', z=NN_z,\n",
    "                        time=time[tidx_start_ref:tidx_end_ref])\n",
    "    zidx = np.argmax(NN_ref.data, axis=1)\n",
    "    hb_ref = np.abs(NN_ref.z[zidx].mean())\n",
    "    print('h_b_ref = {:6.2f} m'.format(hb_ref))\n",
    "    if f_norm:\n",
    "        znorm_ref = 1/hb_ref\n",
    "    else:\n",
    "        znorm_ref = 1\n",
    "    NN_ref.plot_mean(norm=norm, znorm=znorm_ref, color=color_ref, xlabel='off', ylabel='off')\n",
    "\n",
    "if f_ncar:\n",
    "    txym = data_pfl_ncar.read_profile('txym', tidx_start=tidx_start_ncar, tidx_end=tidx_end_ncar)\n",
    "    NN_data = (txym.data[:,1:]-txym.data[:,0:-1])/(txym.z[1:]-txym.z[0:-1])*batag\n",
    "    NN_z = 0.5*(txym.z[1:]+txym.z[0:-1])\n",
    "    NN_ncar = LESProfile(data=NN_data, data_name=r'$N^2_T$', data_units=r's$^{-2}$', z=NN_z,\n",
    "                         time=time_ncar[tidx_start_ncar:tidx_end_ncar])\n",
    "    zidx = np.argmax(NN_ncar.data[:,:-5], axis=1)\n",
    "    hb_ncar = np.abs(NN_ncar.z[zidx].mean())\n",
    "    print('h_b_ncar = {:6.2f} m'.format(hb_ncar))\n",
    "    if f_norm:\n",
    "        znorm_ncar = 1/hb_ncar\n",
    "    else:\n",
    "        znorm_ncar = 1\n",
    "    NN_ncar.plot_mean(norm=norm, znorm=znorm_ncar, color=color_ncar, xlabel='off', ylabel='off')"
   ]
  },
  {
   "cell_type": "markdown",
   "metadata": {},
   "source": [
    "###  Temperature variance"
   ]
  },
  {
   "cell_type": "code",
   "execution_count": null,
   "metadata": {},
   "outputs": [],
   "source": [
    "# normalizing factor\n",
    "if f_norm:\n",
    "    norm = 1/(Q0/ustar)**2\n",
    "    xlabel_str = r'$\\overline{{\\theta^\\prime}^2}/\\Theta_0^2$'\n",
    "else:\n",
    "    norm = 1\n",
    "    xlabel_str = r'$\\overline{{\\theta^\\prime}^2}$ (K$^2$)'\n",
    "\n",
    "# plot\n",
    "data_pfl.read_profile('pt*2', tidx_start=tidx_start, tidx_end=tidx_end).plot_mean(\n",
    "                              norm=norm, znorm=znorm, color='k',\n",
    "                              xlabel=xlabel_str,\n",
    "                              ylabel=ylabel_str, ylim=[ymin, ymax])\n",
    "\n",
    "if f_ref:\n",
    "    data_pfl_ref.read_profile('pt*2', tidx_start=tidx_start_ref, tidx_end=tidx_end_ref).plot_mean(\n",
    "                                      norm=norm, znorm=znorm_ref, color=color_ref,\n",
    "                                      xlabel='off', ylabel='off')\n",
    "    \n",
    "if f_ncar:\n",
    "    data_pfl_ncar.read_profile('tps', tidx_start=tidx_start_ncar, tidx_end=tidx_end_ncar).plot_mean(\n",
    "                                      norm=norm, znorm=znorm_ncar, color=color_ncar,\n",
    "                                      xlabel='off', ylabel='off')\n",
    "    "
   ]
  },
  {
   "cell_type": "markdown",
   "metadata": {},
   "source": [
    "### Temperature fluxes"
   ]
  },
  {
   "cell_type": "code",
   "execution_count": null,
   "metadata": {},
   "outputs": [],
   "source": [
    "# normalizing factor\n",
    "if f_norm:\n",
    "    norm = 1/Q0\n",
    "    xlabel_str = r'$\\overline{w^\\prime \\theta^\\prime}/Q_0$'\n",
    "else:\n",
    "    norm = 1\n",
    "    xlabel_str = r'$\\overline{w^\\prime \\theta^\\prime}$ (K m s$^{-1}$)'\n",
    "\n",
    "# plot\n",
    "data_pfl.read_profile('w*pt*', tidx_start=tidx_start, tidx_end=tidx_end).plot_mean(\n",
    "                               norm=norm, znorm=znorm, color='k',\n",
    "                               xlabel=xlabel_str,\n",
    "                               ylabel=ylabel_str, ylim=[ymin, ymax], label='Resolved')\n",
    "data_pfl.read_profile('w\"pt\"', tidx_start=tidx_start, tidx_end=tidx_end).plot_mean(\n",
    "                               norm=norm, znorm=znorm, color='k', linestyle='--',\n",
    "                               xlabel='off', ylabel='off', label='SGS')\n",
    "plt.legend(loc=3)\n",
    "\n",
    "if f_ref:\n",
    "    data_pfl_ref.read_profile('w*pt*', tidx_start=tidx_start_ref, tidx_end=tidx_end_ref).plot_mean(\n",
    "                                       norm=norm, znorm=znorm_ref, color=color_ref,\n",
    "                                       xlabel='off', ylabel='off')\n",
    "    data_pfl_ref.read_profile('w\"pt\"', tidx_start=tidx_start_ref, tidx_end=tidx_end_ref).plot_mean(\n",
    "                                       norm=norm, znorm=znorm_ref, color=color_ref,\n",
    "                                       xlabel='off', ylabel='off', linestyle='--')\n",
    "    \n",
    "if f_ncar:\n",
    "    data_pfl_ncar.read_profile('wtle', tidx_start=tidx_start_ncar, tidx_end=tidx_end_ncar).plot_mean(\n",
    "                                       norm=norm, znorm=znorm_ncar, color=color_ncar,\n",
    "                                       xlabel='off', ylabel='off')\n",
    "    data_pfl_ncar.read_profile('wtsb', tidx_start=tidx_start_ncar, tidx_end=tidx_end_ncar).plot_mean(\n",
    "                                       norm=norm, znorm=znorm_ncar, color=color_ncar,\n",
    "                                       xlabel='off', ylabel='off', linestyle='--')\n",
    "    "
   ]
  },
  {
   "cell_type": "markdown",
   "metadata": {},
   "source": [
    "### Mean velocity"
   ]
  },
  {
   "cell_type": "code",
   "execution_count": null,
   "metadata": {},
   "outputs": [],
   "source": [
    "# normalizaing factor\n",
    "if f_norm:\n",
    "    norm = 1/ustar\n",
    "    xlabel_str = r'$\\overline{u}/u_*$'\n",
    "else:\n",
    "    norm = 1\n",
    "    xlabel_str = r'$\\overline{u}$ (m s$^{-1}$)'\n",
    "\n",
    "data_pfl.read_profile('u', tidx_start=tidx_start, tidx_end=tidx_end).plot_mean(\n",
    "                             norm=norm, znorm=znorm, color='k',\n",
    "                             xlabel=xlabel_str,\n",
    "                             ylabel=ylabel_str, ylim=[ymin, ymax], label='$\\overline{u}$')\n",
    "data_pfl.read_profile('v', tidx_start=tidx_start, tidx_end=tidx_end).plot_mean(\n",
    "                             norm=norm, znorm=znorm, color='k', linestyle='--',\n",
    "                             xlabel='off', ylabel='off', label='$\\overline{v}$')\n",
    "try:\n",
    "    data_pfl.read_profile('u_stk', tidx_start=tidx_start, tidx_end=tidx_end).plot_mean(\n",
    "                                   norm=norm, znorm=znorm, color='k', linestyle='-.',\n",
    "                                   xlabel='off', ylabel='off', label='$u^S$')\n",
    "    data_pfl.read_profile('v_stk', tidx_start=tidx_start, tidx_end=tidx_end).plot_mean(\n",
    "                                   norm=norm, znorm=znorm, color='k', linestyle=':',\n",
    "                                   xlabel='off', ylabel='off', label='$v^S$')\n",
    "except ValueError:\n",
    "    print('Stokes drift not found. Skip.')\n",
    "    \n",
    "plt.legend(loc=4)\n",
    "\n",
    "if f_ref:\n",
    "    data_pfl_ref.read_profile('u', tidx_start=tidx_start_ref, tidx_end=tidx_end_ref).plot_mean(\n",
    "                                 norm=norm, znorm=znorm_ref, color=color_ref,\n",
    "                                 xlabel='off', ylabel='off')\n",
    "    data_pfl_ref.read_profile('v', tidx_start=tidx_start_ref, tidx_end=tidx_end_ref).plot_mean(\n",
    "                                 norm=norm, znorm=znorm_ref, color=color_ref, linestyle='--',\n",
    "                                 xlabel='off', ylabel='off')\n",
    "    try:\n",
    "        data_pfl_ref.read_profile('u_stk', tidx_start=tidx_start_ref, tidx_end=tidx_end_ref).plot_mean(\n",
    "                                     norm=norm, znorm=znorm_ref, color=color_ref, linestyle='-.',\n",
    "                                     xlabel='off', ylabel='off')\n",
    "        data_pfl_ref.read_profile('v_stk', tidx_start=tidx_start_ref, tidx_end=tidx_end_ref).plot_mean(\n",
    "                                     norm=norm, znorm=znorm_ref, color=color_ref, linestyle=':',\n",
    "                                     xlabel='off', ylabel='off')\n",
    "    except ValueError:\n",
    "        print('Ref: Stokes drift not found. Skip.')\n",
    "    \n",
    "if f_ncar:\n",
    "    data_pfl_ncar.read_profile('uxym', tidx_start=tidx_start_ncar, tidx_end=tidx_end_ncar).plot_mean(\n",
    "                                 norm=norm, znorm=znorm_ncar, color=color_ncar,\n",
    "                                 xlabel='off', ylabel='off')\n",
    "    data_pfl_ncar.read_profile('vxym', tidx_start=tidx_start_ncar, tidx_end=tidx_end_ncar).plot_mean(\n",
    "                                 norm=norm, znorm=znorm_ncar, color=color_ncar, linestyle='--',\n",
    "                                 xlabel='off', ylabel='off')\n",
    "    try:\n",
    "        data_pfl_ncar.read_profile('stokes', tidx_start=tidx_start_ncar, tidx_end=tidx_end_ncar).plot_mean(\n",
    "                                     norm=norm, znorm=znorm_ncar, color=color_ncar, linestyle='-.',\n",
    "                                     xlabel='off', ylabel='off')\n",
    "    except ValueError:\n",
    "        print('NCARLES: Stokes drift not found. Skip.')\n",
    "    "
   ]
  },
  {
   "cell_type": "markdown",
   "metadata": {},
   "source": [
    "### Momentum fluxes"
   ]
  },
  {
   "cell_type": "code",
   "execution_count": null,
   "metadata": {},
   "outputs": [],
   "source": [
    "# normalizaing factor\n",
    "if f_norm:\n",
    "    norm = 1/ustar**2\n",
    "    xlabel_str1 = r'$\\overline{u^\\prime w^\\prime}/u_*^2$'\n",
    "    xlabel_str2 = r'$\\overline{v^\\prime w^\\prime}/u_*^2$'\n",
    "else:\n",
    "    norm = 1\n",
    "    xlabel_str1 = r'$\\overline{u^\\prime w^\\prime}$ (m$^2$ s$^{-2}$)'\n",
    "    xlabel_str2 = r'$\\overline{v^\\prime w^\\prime}$ (m$^2$ s$^{-2}$)'\n",
    "\n",
    "# subplots\n",
    "fig, axarr = plt.subplots(1, 2, sharey='row')\n",
    "data_pfl.read_profile('wu', tidx_start=tidx_start, tidx_end=tidx_end).plot_mean(\n",
    "                            axis=axarr[0], norm=norm, znorm=znorm, color='k',\n",
    "                            xlabel=xlabel_str1, ylabel=ylabel_str, ylim=[ymin, ymax])\n",
    "data_pfl.read_profile('wv', tidx_start=tidx_start, tidx_end=tidx_end).plot_mean(\n",
    "                            axis=axarr[1], norm=norm, znorm=znorm, color='k',\n",
    "                            xlabel=xlabel_str2, ylabel='off')\n",
    "\n",
    "if f_ref:\n",
    "    data_pfl_ref.read_profile('wu', tidx_start=tidx_start_ref, tidx_end=tidx_end_ref).plot_mean(\n",
    "                                    axis=axarr[0], norm=norm, znorm=znorm_ref,\n",
    "                                    xlabel='off', ylabel='off', color=color_ref)\n",
    "    data_pfl_ref.read_profile('wv', tidx_start=tidx_start_ref, tidx_end=tidx_end_ref).plot_mean(\n",
    "                                    axis=axarr[1], norm=norm, znorm=znorm_ref, \n",
    "                                    xlabel='off', ylabel='off', color=color_ref)\n",
    "    \n",
    "if f_ncar:\n",
    "    data_pfl_ncar.read_profile('uw', tidx_start=tidx_start_ncar, tidx_end=tidx_end_ncar).plot_mean(\n",
    "                                     axis=axarr[0], norm=norm, znorm=znorm_ncar,\n",
    "                                    xlabel='off', ylabel='off', color=color_ncar)\n",
    "    data_pfl_ncar.read_profile('vw', tidx_start=tidx_start_ncar, tidx_end=tidx_end_ncar).plot_mean(\n",
    "                                     axis=axarr[1], norm=norm, znorm=znorm_ncar, \n",
    "                                     xlabel='off', ylabel='off', color=color_ncar)"
   ]
  },
  {
   "cell_type": "markdown",
   "metadata": {},
   "source": [
    "### Velocity variance"
   ]
  },
  {
   "cell_type": "code",
   "execution_count": null,
   "metadata": {},
   "outputs": [],
   "source": [
    "# normalizing factor\n",
    "if f_norm:\n",
    "    norm = 1/ustar**2\n",
    "    xlabel_str1 = r'$\\overline{{u^\\prime}^2}/u_*^2$'\n",
    "    xlabel_str2 = r'$\\overline{{v^\\prime}^2}/u_*^2$'\n",
    "    xlabel_str3 = r'$\\overline{{w^\\prime}^2}/u_*^2$'\n",
    "else:\n",
    "    norm = 1\n",
    "    xlabel_str1 = r'$\\overline{{u^\\prime}^2}$ (m$^2$ s$^{-2}$)'\n",
    "    xlabel_str2 = r'$\\overline{{v^\\prime}^2}$ (m$^2$ s$^{-2}$)'\n",
    "    xlabel_str3 = r'$\\overline{{w^\\prime}^2}$ (m$^2$ s$^{-2}$)'\n",
    "\n",
    "# subplots\n",
    "fig, axarr = plt.subplots(1, 3, sharey='row')\n",
    "data_pfl.read_profile('u*2', tidx_start=tidx_start, tidx_end=tidx_end).plot_mean(\n",
    "                             axis=axarr[0], norm=norm, znorm=znorm, color='k',\n",
    "                             xlabel=xlabel_str1, ylabel=ylabel_str, ylim=[ymin, ymax])\n",
    "data_pfl.read_profile('v*2', tidx_start=tidx_start, tidx_end=tidx_end).plot_mean(\n",
    "                             axis=axarr[1], norm=norm, znorm=znorm, color='k',\n",
    "                             xlabel=xlabel_str2, ylabel='off')\n",
    "data_pfl.read_profile('w*2', tidx_start=tidx_start, tidx_end=tidx_end).plot_mean(\n",
    "                             axis=axarr[2], norm=norm, znorm=znorm, color='k',\n",
    "                             xlabel=xlabel_str3, ylabel='off')\n",
    "\n",
    "if f_ref:\n",
    "    data_pfl_ref.read_profile('u*2', tidx_start=tidx_start_ref, tidx_end=tidx_end_ref).plot_mean(\n",
    "                                     axis=axarr[0], norm=norm, znorm=znorm_ref, color=color_ref,\n",
    "                                     xlabel='off',ylabel='off')\n",
    "    data_pfl_ref.read_profile('v*2', tidx_start=tidx_start_ref, tidx_end=tidx_end_ref).plot_mean(\n",
    "                                     axis=axarr[1], norm=norm, znorm=znorm_ref, color=color_ref,\n",
    "                                     xlabel='off',ylabel='off')\n",
    "    data_pfl_ref.read_profile('w*2', tidx_start=tidx_start_ref, tidx_end=tidx_end_ref).plot_mean(\n",
    "                                     axis=axarr[2], norm=norm, znorm=znorm_ref, color=color_ref,\n",
    "                                     xlabel='off',ylabel='off')\n",
    "\n",
    "if f_ncar:\n",
    "    data_pfl_ncar.read_profile('ups', tidx_start=tidx_start_ncar, tidx_end=tidx_end_ncar).plot_mean(\n",
    "                                      axis=axarr[0], norm=norm, znorm=znorm_ncar, color=color_ncar,\n",
    "                                      xlabel='off',ylabel='off')\n",
    "    data_pfl_ncar.read_profile('vps', tidx_start=tidx_start_ncar, tidx_end=tidx_end_ncar).plot_mean(\n",
    "                                      axis=axarr[1], norm=norm, znorm=znorm_ncar, color=color_ncar,\n",
    "                                      xlabel='off',ylabel='off')\n",
    "    data_pfl_ncar.read_profile('wps', tidx_start=tidx_start_ncar, tidx_end=tidx_end_ncar).plot_mean(\n",
    "                                      axis=axarr[2], norm=norm, znorm=znorm_ncar, color=color_ncar,\n",
    "                                      xlabel='off',ylabel='off')"
   ]
  },
  {
   "cell_type": "markdown",
   "metadata": {},
   "source": [
    "### TKE"
   ]
  },
  {
   "cell_type": "code",
   "execution_count": null,
   "metadata": {},
   "outputs": [],
   "source": [
    "# normalizing factor\n",
    "if f_norm:\n",
    "    norm = 1/ustar**2\n",
    "    xlabel_str = r'$TKE/u_*^2$'\n",
    "else:\n",
    "    norm = 1\n",
    "    xlabel_str = r'$TKE$ (m$^2$ s$^{-2}$)'\n",
    "\n",
    "e_res = data_pfl.read_profile('e*', tidx_start=tidx_start, tidx_end=tidx_end).plot_mean(\n",
    "                                    norm=norm, znorm=znorm, color='k',\n",
    "                                    xlabel=xlabel_str, ylabel=ylabel_str,\n",
    "                                    ylim=[ymin, ymax], label='Resolved')\n",
    "e_sgs = data_pfl.read_profile('e', tidx_start=tidx_start, tidx_end=tidx_end)\n",
    "e_sgs.z[0] = np.nan # fix the invalid depth of e at the bottom\n",
    "e_sgs.plot_mean(norm=norm, znorm=znorm, color='k', linestyle='--', xlabel='off', ylabel='off', label='SGS')\n",
    "plt.legend(loc=4)\n",
    "\n",
    "if f_ref:\n",
    "    e_res = data_pfl_ref.read_profile('e*', tidx_start=tidx_start_ref, tidx_end=tidx_end_ref).plot_mean(\n",
    "                                            norm=norm, znorm=znorm_ref, color=color_ref,\n",
    "                                            xlabel='off', ylabel='off')\n",
    "    e_sgs = data_pfl_ref.read_profile('e', tidx_start=tidx_start_ref, tidx_end=tidx_end_ref)\n",
    "    e_sgs.z[0] = np.nan # fix the invalid depth of e at the bottom\n",
    "    e_sgs.plot_mean(norm=norm, znorm=znorm_ref, color=color_ref, linestyle='--', xlabel='off', ylabel='off')\n",
    "\n",
    "if f_ncar:\n",
    "    e_res = data_pfl_ncar.read_profile('englez', tidx_start=tidx_start_ncar, tidx_end=tidx_end_ncar).plot_mean(\n",
    "                                            norm=norm, znorm=znorm_ncar, color=color_ncar,\n",
    "                                            xlabel='off', ylabel='off')\n",
    "    e_sgs = data_pfl_ncar.read_profile('engsbz', tidx_start=tidx_start_ncar, tidx_end=tidx_end_ncar).plot_mean(\n",
    "                                            norm=norm, znorm=znorm_ncar, color=color_ncar, linestyle='--',\n",
    "                                            xlabel='off', ylabel='off')"
   ]
  },
  {
   "cell_type": "markdown",
   "metadata": {},
   "source": [
    "### Vertial velocity skewness"
   ]
  },
  {
   "cell_type": "code",
   "execution_count": null,
   "metadata": {},
   "outputs": [],
   "source": [
    "# normalizing factor\n",
    "norm = 1\n",
    "\n",
    "data_pfl.read_profile('Sw', tidx_start=tidx_start, tidx_end=tidx_end).plot_mean(\n",
    "                            norm=norm, znorm=znorm, color='k',\n",
    "                            xlabel=r'$\\overline{{w^\\prime}^3} / \\left(\\overline{{w^\\prime}^2}\\right)^{3/2}$',\n",
    "                            ylabel=ylabel_str, ylim=[ymin, ymax])\n",
    "if f_ref:\n",
    "    data_pfl_ref.read_profile('Sw', tidx_start=tidx_start_ref, tidx_end=tidx_end_ref).plot_mean(\n",
    "                                    norm=norm, znorm=znorm_ref, color=color_ref,\n",
    "                                    xlabel='off', ylabel='off')\n",
    "    \n",
    "if f_ncar:\n",
    "    wcube = data_pfl_ncar.read_profile('wcube', tidx_start=tidx_start_ncar, tidx_end=tidx_end_ncar)\n",
    "    wps   = data_pfl_ncar.read_profile('wps', tidx_start=tidx_start_ncar, tidx_end=tidx_end_ncar)\n",
    "    Sw    = LESProfile(data=wcube.data/wps.data**(1.5), z=wcube.z)\n",
    "    Sw.plot_mean(norm=norm, znorm=znorm_ncar, color=color_ncar, xlabel='off', ylabel='off')"
   ]
  },
  {
   "cell_type": "code",
   "execution_count": null,
   "metadata": {},
   "outputs": [],
   "source": []
  }
 ],
 "metadata": {
  "kernelspec": {
   "display_name": "Python 2",
   "language": "python",
   "name": "python2"
  },
  "language_info": {
   "codemirror_mode": {
    "name": "ipython",
    "version": 2
   },
   "file_extension": ".py",
   "mimetype": "text/x-python",
   "name": "python",
   "nbconvert_exporter": "python",
   "pygments_lexer": "ipython2",
   "version": "2.7.14"
  }
 },
 "nbformat": 4,
 "nbformat_minor": 2
}
